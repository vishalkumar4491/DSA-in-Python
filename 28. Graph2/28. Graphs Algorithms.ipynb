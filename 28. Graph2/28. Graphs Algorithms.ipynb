{
 "cells": [
  {
   "cell_type": "code",
   "execution_count": 10,
   "metadata": {},
   "outputs": [
    {
     "name": "stdout",
     "output_type": "stream",
     "text": [
      "[[inf, 2, 3, inf], [2, inf, 4, 6], [3, 4, inf, 5], [inf, 6, 5, inf]]\n",
      "0 1 2 3 "
     ]
    }
   ],
   "source": [
    "class Graph:\n",
    "    def __init__(self, nVertices):\n",
    "        self.nVertices = nVertices\n",
    "        self.adjMatrix = [[float('inf') for i in range(nVertices)] for j in range(nVertices)]\n",
    "        \n",
    "    def addEdge(self, u, v, wt):\n",
    "        self.adjMatrix[u][v] = wt\n",
    "        self.adjMatrix[v][u] = wt\n",
    "        \n",
    "    def removeEdge(self, u, v):\n",
    "        if self.containsEdge(u, v) == False:\n",
    "            return\n",
    "        self.adjMatrix[u][v] = float('inf')\n",
    "        self.adjMatrix[v][u] = float('inf')\n",
    "        \n",
    "    def containsEdge(self, u, v):\n",
    "        return True if self.adjMatrix[u][v] != float('inf') else False\n",
    "    \n",
    "    def __str__(self):\n",
    "        return str(self.adjMatrix)\n",
    "    \n",
    "    \n",
    "    \n",
    "#     DFS\n",
    "    \n",
    "    def __dfsHelper(self, u, visited):\n",
    "        visited[u] = True\n",
    "        print(u, end= ' ')\n",
    "        for i in range(self.nVertices):\n",
    "            if visited[i] == False and self.adjMatrix[u][i] != float(\"inf\"):\n",
    "                self.__dfsHelper(i, visited)\n",
    "    \n",
    "    def dfs(self):\n",
    "        visited = [False for i in range(self.nVertices)]\n",
    "        for i in range(self.nVertices):\n",
    "            if visited[i] == False:\n",
    "                self.__dfsHelper(i, visited)\n",
    "                \n",
    "\n",
    "# min  vertex\n",
    "    \n",
    "g = Graph(4)\n",
    "g.addEdge(0, 1, 2)\n",
    "g.addEdge(0, 2, 3)\n",
    "g.addEdge(2, 1, 4)\n",
    "g.addEdge(3, 1, 6)\n",
    "g.addEdge(2, 3, 5)\n",
    "print(g)\n",
    "g.dfs()\n",
    "\n"
   ]
  },
  {
   "cell_type": "code",
   "execution_count": null,
   "metadata": {},
   "outputs": [],
   "source": []
  },
  {
   "cell_type": "code",
   "execution_count": null,
   "metadata": {},
   "outputs": [],
   "source": []
  }
 ],
 "metadata": {
  "kernelspec": {
   "display_name": "Python 3",
   "language": "python",
   "name": "python3"
  },
  "language_info": {
   "codemirror_mode": {
    "name": "ipython",
    "version": 3
   },
   "file_extension": ".py",
   "mimetype": "text/x-python",
   "name": "python",
   "nbconvert_exporter": "python",
   "pygments_lexer": "ipython3",
   "version": "3.7.6"
  }
 },
 "nbformat": 4,
 "nbformat_minor": 4
}
